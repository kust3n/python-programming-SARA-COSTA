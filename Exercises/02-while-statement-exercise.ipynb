{
 "cells": [
  {
   "cell_type": "markdown",
   "metadata": {},
   "source": [
    "<a href=\"https://colab.research.google.com/github/pr0fez/AI24-Programmering/blob/master/Exercises/02-while-statement-exercise.ipynb\" target=\"_parent\"><img align=\"left\" src=\"https://colab.research.google.com/assets/colab-badge.svg\" alt=\"Open In Colab\"/></a> &nbsp; to see hints and answers."
   ]
  },
  {
   "cell_type": "markdown",
   "metadata": {},
   "source": [
    "# while statement exercises\n",
    "\n",
    "---\n",
    "These are introductory exercises in Python with focus in **while** statement.\n",
    "\n",
    "<p class = \"alert alert-info\" role=\"alert\"><b>Remember</b> to use <b>descriptive variable names</b> in order to get readable code </p>\n",
    "\n",
    "<p class = \"alert alert-info\" role=\"alert\"><b>Remember</b> to format your answers in a neat way using <b>f-strings</b>\n",
    "\n",
    "<p class = \"alert alert-info\" role=\"alert\"><b>Remember</b> to format your input questions in a pedagogical way to guide the user\n",
    "\n",
    "The number of stars (\\*), (\\*\\*), (\\*\\*\\*) denotes the difficulty level of the task\n",
    "\n",
    "---"
   ]
  },
  {
   "cell_type": "markdown",
   "metadata": {},
   "source": [
    "## 1. Count numbers (*)\n",
    "\n",
    "Use a **while** statement to count from -10 to 10 with one increment. \n",
    "\n",
    "<details>\n",
    "\n",
    "<summary>Hint </summary>\n",
    "\n",
    "```python\n",
    "\n",
    "i += 1 # adds one and assigns it to i, equivalent to i = i + 1\n",
    "```\n",
    "\n",
    "</details>\n",
    "<br>\n",
    "<details>\n",
    "\n",
    "<summary>Answer </summary>\n",
    "\n",
    "```\n",
    "\n",
    "-10 -9 -8 -7 -6 -5 -4 -3 -2 -1 0 1 2 3 4 5 6 7 8 9 10\n",
    "```\n",
    "\n",
    "</details>\n"
   ]
  },
  {
   "cell_type": "code",
   "execution_count": null,
   "metadata": {},
   "outputs": [
    {
     "name": "stdout",
     "output_type": "stream",
     "text": [
      "-10\n",
      "-9\n",
      "-8\n",
      "-7\n",
      "-6\n",
      "-5\n",
      "-4\n",
      "-3\n",
      "-2\n",
      "-1\n",
      "0\n",
      "1\n",
      "2\n",
      "3\n",
      "4\n",
      "5\n",
      "6\n",
      "7\n",
      "8\n",
      "9\n",
      "10\n"
     ]
    }
   ],
   "source": [
    "# 1.0\n",
    "\n",
    "i = -10\n",
    "\n",
    "while i <= 10:\n",
    "    print(i)\n",
    "    i += 1"
   ]
  },
  {
   "cell_type": "markdown",
   "metadata": {},
   "source": [
    "--- \n",
    "## 2. Arithmetic sum (*)\n",
    "Use a **while** statement to compute the following sums: \n",
    "\n",
    "&nbsp; a) &nbsp; $\\text{sum} = 1 + 2 + \\ldots + 99+ 100$\n",
    "\n",
    "&nbsp; b) &nbsp; $\\text{sum} = 1 + 3 + 5 + \\ldots + 97 + 99$\n",
    "\n",
    "<details>\n",
    "\n",
    "<summary>Answer </summary>\n",
    "\n",
    "```\n",
    "a) 1 + 2 + ... + 99 + 100 = 5050 \n",
    "\n",
    "b) 1 + 3 + 5 +...+ 97 + 99 = 2500\n",
    "```\n",
    "\n",
    "</details>"
   ]
  },
  {
   "cell_type": "code",
   "execution_count": 29,
   "metadata": {},
   "outputs": [
    {
     "name": "stdout",
     "output_type": "stream",
     "text": [
      "5050\n"
     ]
    }
   ],
   "source": [
    "# 2.0\n",
    "# a\n",
    "\n",
    "sum = 0\n",
    "i = 1\n",
    "while i <= 100:\n",
    "    sum = sum + i\n",
    "    i += 1\n",
    "print(sum)\n"
   ]
  },
  {
   "cell_type": "code",
   "execution_count": 31,
   "metadata": {},
   "outputs": [
    {
     "name": "stdout",
     "output_type": "stream",
     "text": [
      "2500\n"
     ]
    }
   ],
   "source": [
    "# 2.0\n",
    "# b\n",
    "\n",
    "sum = 0\n",
    "i = 1\n",
    "while i <= 100:\n",
    "    sum = sum + i\n",
    "    i += 2\n",
    "print(sum)"
   ]
  },
  {
   "cell_type": "markdown",
   "metadata": {},
   "source": [
    "--- \n",
    "## 3. Guess number game (*)\n",
    "&nbsp; a) &nbsp; Create a guessing number game following this flow chart: \n",
    "\n",
    "<img align=\"left\" src=\"../assets/guessing_game.png\" width=\"300\"/>"
   ]
  },
  {
   "cell_type": "code",
   "execution_count": 1,
   "metadata": {},
   "outputs": [
    {
     "name": "stdout",
     "output_type": "stream",
     "text": [
      "Wrong guess, try again!\n",
      "Hint: The number is lower\n",
      "\n",
      "Wrong guess, try again!\n",
      "Hint: The number is higher\n",
      "\n",
      "Wrong guess, try again!\n",
      "Hint: The number is higher\n",
      "\n",
      "Wrong guess, try again!\n",
      "Hint: The number is lower\n",
      "\n",
      "Wrong guess, try again!\n",
      "Hint: The number is higher\n",
      "\n",
      "Wrong guess, try again!\n",
      "Hint: The number is higher\n",
      "\n",
      "You guessed correctly! The number is 37. Congratulations!\n"
     ]
    }
   ],
   "source": [
    "# 3.0\n",
    "# a\n",
    "\n",
    "import random\n",
    "\n",
    "random_int = random.randint(1, 100)\n",
    "\n",
    "while True:\n",
    "    guess_int = int(input(\"Guess a number between 1-100!\"))\n",
    "\n",
    "    if guess_int == random_int:\n",
    "        print(f\"You guessed correctly! The number is {random_int}. Congratulations!\")\n",
    "        break\n",
    "\n",
    "    else:\n",
    "        print(\"Wrong guess, try again!\")\n",
    "\n",
    "        if guess_int > random_int:\n",
    "            print(\"Hint: The number is lower\")\n",
    "            print(\"\")\n",
    "\n",
    "        else:\n",
    "            print(\"Hint: The number is higher\")\n",
    "            print(\"\")"
   ]
  },
  {
   "cell_type": "markdown",
   "metadata": {},
   "source": [
    "&nbsp; b) &nbsp; Make an algorithm to automatically guess the correct number. Can you optimize to get as few guesses as possible? (**)\n",
    "\n",
    "<details>\n",
    "\n",
    "<summary>Hint </summary>\n",
    "\n",
    "&nbsp; b) &nbsp; Half your testing number each time \n",
    "\n",
    "</details>"
   ]
  },
  {
   "cell_type": "code",
   "execution_count": 7,
   "metadata": {},
   "outputs": [
    {
     "name": "stdout",
     "output_type": "stream",
     "text": [
      "Testing algorithm. Number is 73\n",
      "Guess #1: 68\n",
      "Too low\n",
      "Guess #2: 84\n",
      "Too high\n",
      "Guess #3: 76\n",
      "Too high\n",
      "Guess #4: 72\n",
      "Too low\n",
      "Guess #5: 74\n",
      "Too high\n",
      "Guess #6: 73\n",
      "Correct\n"
     ]
    }
   ],
   "source": [
    "# b\n",
    "\n",
    "random_int = random.randint(1, 100)\n",
    "print(f\"Testing algorithm. Number is {random_int}\")\n",
    "\n",
    "# Best would be to start in the middle (guessing 50) to get the least amount of guesses\n",
    "# but to make it realistic I'll randomise the first guess\n",
    "guess = random.randint(1, 100)\n",
    "\n",
    "highest = 100\n",
    "lowest = 1\n",
    "numberof_guesses = 1\n",
    "\n",
    "while True:\n",
    "\n",
    "    print(f\"Guess #{numberof_guesses}: {guess}\")\n",
    "    numberof_guesses += 1\n",
    "\n",
    "    if guess == random_int:\n",
    "        print(\"Correct\")\n",
    "        break\n",
    "\n",
    "    elif guess > random_int:\n",
    "        print(\"Too high\")\n",
    "        highest = guess - 1\n",
    "        guess = (lowest + highest) // 2\n",
    "\n",
    "    else:\n",
    "        print(\"Too low\")\n",
    "        lowest = guess + 1\n",
    "        guess = (lowest + highest) // 2\n"
   ]
  },
  {
   "cell_type": "markdown",
   "metadata": {},
   "source": [
    "--- \n",
    "## 4. Multiplication game (*)\n",
    "&nbsp; a) &nbsp; Create a multiplication game following this flow chart: \n",
    "\n",
    "<img align=\"left\" src=\"../assets/Multiplication_game.png\" width=\"300\"/>"
   ]
  },
  {
   "cell_type": "markdown",
   "metadata": {},
   "source": [
    "&nbsp; b) &nbsp; Add a menu for choosing difficulty level of the game\n",
    "\n",
    "&nbsp; c) &nbsp; Feel free to extend this program with features of your choice."
   ]
  },
  {
   "cell_type": "code",
   "execution_count": null,
   "metadata": {},
   "outputs": [
    {
     "name": "stdout",
     "output_type": "stream",
     "text": [
      "Welcome to the multiplication game!\n",
      "Choose a difficulty:\n",
      "[E]asy\n",
      "[I]ntermediate\n",
      "[H]ard\n",
      "Test1\n",
      "Play again? [Y]es or [N]o: \n",
      "Returning to menu...\n",
      "Welcome to the multiplication game!\n",
      "Choose a difficulty:\n",
      "[E]asy\n",
      "[I]ntermediate\n",
      "[H]ard\n",
      "Test1\n",
      "Play again? [Y]es or [N]o: \n",
      "Invalid input, please enter Y or N.\n",
      "Play again? [Y]es or [N]o: \n",
      "Invalid input, please enter Y or N.\n",
      "Play again? [Y]es or [N]o: \n",
      "Ending game...\n"
     ]
    },
    {
     "ename": "SystemExit",
     "evalue": "",
     "output_type": "error",
     "traceback": [
      "An exception has occurred, use %tb to see the full traceback.\n",
      "\u001b[31mSystemExit\u001b[39m\n"
     ]
    },
    {
     "name": "stderr",
     "output_type": "stream",
     "text": [
      "C:\\Users\\Rodda\\AppData\\Roaming\\Python\\Python313\\site-packages\\IPython\\core\\interactiveshell.py:3707: UserWarning: To exit: use 'exit', 'quit', or Ctrl-D.\n",
      "  warn(\"To exit: use 'exit', 'quit', or Ctrl-D.\", stacklevel=1)\n"
     ]
    }
   ],
   "source": [
    "# 4.0\n",
    "# a, b, c\n",
    "\n",
    "import sys\n",
    "\n",
    "def playagain():\n",
    "\n",
    "    while True:\n",
    "        print(\"Play again? [Y]es or [N]o: \")\n",
    "        playagain = input().lower()\n",
    "\n",
    "        if playagain == \"y\":\n",
    "            print(\"Returning to menu...\")\n",
    "            break\n",
    "        elif playagain == \"n\":\n",
    "            print(\"Ending game...\")\n",
    "            sys.exit()\n",
    "        else:\n",
    "            print(\"Invalid input, please enter Y or N.\")\n",
    "\n",
    "def Easy():\n",
    "    print(\"Test1\")\n",
    "    playagain()\n",
    "\n",
    "def Intermediate():\n",
    "    print(\"Test2\")\n",
    "    playagain()\n",
    "\n",
    "def Hard():\n",
    "    print(\"Test3\")\n",
    "    playagain()\n",
    "     \n",
    "while True:\n",
    "    print(\"Welcome to the multiplication game!\")\n",
    "    print(\"Choose a difficulty:\")\n",
    "    print(\"[E]asy\")\n",
    "    print(\"[I]ntermediate\")\n",
    "    print(\"[H]ard\")\n",
    "\n",
    "    choice = input().lower()\n",
    "\n",
    "    if choice == \"e\":\n",
    "        Easy()\n",
    "    \n",
    "    elif choice == \"i\":\n",
    "        Intermediate()\n",
    "    \n",
    "    elif choice == \"h\":\n",
    "        Hard()\n",
    "        \n",
    "    else:\n",
    "        print(\"Wrong input, try again\")\n",
    "\n"
   ]
  },
  {
   "cell_type": "markdown",
   "metadata": {},
   "source": [
    "--- \n",
    "## 5. Check convergence (**)\n",
    "Use a while statement to compute the following sums: \n",
    "\n",
    "&nbsp; a) &nbsp; $\\text{sum} = 1 + \\frac{1}{2} + \\frac{1}{4} + \\frac{1}{8} + \\dots + \\frac{1}{2^n}$\n",
    "\n",
    "&nbsp; b) &nbsp; $\\text{sum} = 1 - \\frac{1}{3} + \\frac{1}{5} - \\frac{1}{7} + \\dots + \\frac{(-1)^n}{2n+1}$\n",
    "\n",
    "Try different values on $n$ to see which value it converges to.\n",
    "\n",
    "<details>\n",
    "\n",
    "<summary>Answer </summary>\n",
    "\n",
    "&nbsp; a) &nbsp; $1 + \\frac{1}{2} + \\frac{1}{4} + \\frac{1}{8} + \\dots + \\frac{1}{2^n} \\xrightarrow[n\\rightarrow \\infty]{} 2$ \n",
    "\n",
    "&nbsp; b) &nbsp; $ 1 - \\frac{1}{3} + \\frac{1}{5} - \\frac{1}{7} + \\dots + \\frac{(-1)^n}{2n+1} \\xrightarrow[n\\rightarrow \\infty]{} \\frac{\\pi}{4}$\n",
    "\n",
    "</details>"
   ]
  },
  {
   "cell_type": "markdown",
   "metadata": {},
   "source": [
    "---\n",
    "\n",
    "pr0fez Giang\n",
    "\n",
    "[LinkedIn][linkedIn_pr0fez]\n",
    "\n",
    "[GitHub portfolio][github_portfolio]\n",
    "\n",
    "[linkedIn_pr0fez]: https://www.linkedin.com/in/pr0fezgiang/\n",
    "[github_portfolio]: https://github.com/pr0fez/Portfolio-pr0fez-Giang\n",
    "\n",
    "---"
   ]
  }
 ],
 "metadata": {
  "kernelspec": {
   "display_name": "Python 3",
   "language": "python",
   "name": "python3"
  },
  "language_info": {
   "codemirror_mode": {
    "name": "ipython",
    "version": 3
   },
   "file_extension": ".py",
   "mimetype": "text/x-python",
   "name": "python",
   "nbconvert_exporter": "python",
   "pygments_lexer": "ipython3",
   "version": "3.13.7"
  },
  "orig_nbformat": 4
 },
 "nbformat": 4,
 "nbformat_minor": 2
}

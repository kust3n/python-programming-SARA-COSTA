{
 "cells": [
  {
   "cell_type": "markdown",
   "metadata": {},
   "source": [
    "<a href=\"https://colab.research.google.com/github/pr0fez/AI24-Programmering/blob/master/Exercises/02-while-statement-exercise.ipynb\" target=\"_parent\"><img align=\"left\" src=\"https://colab.research.google.com/assets/colab-badge.svg\" alt=\"Open In Colab\"/></a> &nbsp; to see hints and answers."
   ]
  },
  {
   "cell_type": "markdown",
   "metadata": {},
   "source": [
    "# while statement exercises\n",
    "\n",
    "---\n",
    "These are introductory exercises in Python with focus in **while** statement.\n",
    "\n",
    "<p class = \"alert alert-info\" role=\"alert\"><b>Remember</b> to use <b>descriptive variable names</b> in order to get readable code </p>\n",
    "\n",
    "<p class = \"alert alert-info\" role=\"alert\"><b>Remember</b> to format your answers in a neat way using <b>f-strings</b>\n",
    "\n",
    "<p class = \"alert alert-info\" role=\"alert\"><b>Remember</b> to format your input questions in a pedagogical way to guide the user\n",
    "\n",
    "The number of stars (\\*), (\\*\\*), (\\*\\*\\*) denotes the difficulty level of the task\n",
    "\n",
    "---"
   ]
  },
  {
   "cell_type": "markdown",
   "metadata": {},
   "source": [
    "## 1. Count numbers (*)\n",
    "\n",
    "Use a **while** statement to count from -10 to 10 with one increment. \n",
    "\n",
    "<details>\n",
    "\n",
    "<summary>Hint </summary>\n",
    "\n",
    "```python\n",
    "\n",
    "i += 1 # adds one and assigns it to i, equivalent to i = i + 1\n",
    "```\n",
    "\n",
    "</details>\n",
    "<br>\n",
    "<details>\n",
    "\n",
    "<summary>Answer </summary>\n",
    "\n",
    "```\n",
    "\n",
    "-10 -9 -8 -7 -6 -5 -4 -3 -2 -1 0 1 2 3 4 5 6 7 8 9 10\n",
    "```\n",
    "\n",
    "</details>\n"
   ]
  },
  {
   "cell_type": "code",
   "execution_count": null,
   "metadata": {},
   "outputs": [
    {
     "name": "stdout",
     "output_type": "stream",
     "text": [
      "-10\n",
      "-9\n",
      "-8\n",
      "-7\n",
      "-6\n",
      "-5\n",
      "-4\n",
      "-3\n",
      "-2\n",
      "-1\n",
      "0\n",
      "1\n",
      "2\n",
      "3\n",
      "4\n",
      "5\n",
      "6\n",
      "7\n",
      "8\n",
      "9\n",
      "10\n"
     ]
    }
   ],
   "source": [
    "# 1.0\n",
    "\n",
    "i = -10\n",
    "\n",
    "while i <= 10:\n",
    "    print(i)\n",
    "    i += 1"
   ]
  },
  {
   "cell_type": "markdown",
   "metadata": {},
   "source": [
    "--- \n",
    "## 2. Arithmetic sum (*)\n",
    "Use a **while** statement to compute the following sums: \n",
    "\n",
    "&nbsp; a) &nbsp; $\\text{sum} = 1 + 2 + \\ldots + 99+ 100$\n",
    "\n",
    "&nbsp; b) &nbsp; $\\text{sum} = 1 + 3 + 5 + \\ldots + 97 + 99$\n",
    "\n",
    "<details>\n",
    "\n",
    "<summary>Answer </summary>\n",
    "\n",
    "```\n",
    "a) 1 + 2 + ... + 99 + 100 = 5050 \n",
    "\n",
    "b) 1 + 3 + 5 +...+ 97 + 99 = 2500\n",
    "```\n",
    "\n",
    "</details>"
   ]
  },
  {
   "cell_type": "code",
   "execution_count": 29,
   "metadata": {},
   "outputs": [
    {
     "name": "stdout",
     "output_type": "stream",
     "text": [
      "5050\n"
     ]
    }
   ],
   "source": [
    "# 2.0\n",
    "# a\n",
    "\n",
    "sum = 0\n",
    "i = 1\n",
    "while i <= 100:\n",
    "    sum = sum + i\n",
    "    i += 1\n",
    "print(sum)\n"
   ]
  },
  {
   "cell_type": "code",
   "execution_count": 31,
   "metadata": {},
   "outputs": [
    {
     "name": "stdout",
     "output_type": "stream",
     "text": [
      "2500\n"
     ]
    }
   ],
   "source": [
    "# 2.0\n",
    "# b\n",
    "\n",
    "sum = 0\n",
    "i = 1\n",
    "while i <= 100:\n",
    "    sum = sum + i\n",
    "    i += 2\n",
    "print(sum)"
   ]
  },
  {
   "cell_type": "markdown",
   "metadata": {},
   "source": [
    "--- \n",
    "## 3. Guess number game (*)\n",
    "&nbsp; a) &nbsp; Create a guessing number game following this flow chart: \n",
    "\n",
    "<img align=\"left\" src=\"../assets/guessing_game.png\" width=\"300\"/>"
   ]
  },
  {
   "cell_type": "code",
   "execution_count": null,
   "metadata": {},
   "outputs": [
    {
     "name": "stdout",
     "output_type": "stream",
     "text": [
      "Wrong guess, try again!\n",
      "Hint: The number is higher\n",
      "\n",
      "Wrong guess, try again!\n",
      "Hint: The number is higher\n",
      "\n",
      "Wrong guess, try again!\n",
      "Hint: The number is lower\n",
      "\n",
      "Wrong guess, try again!\n",
      "Hint: The number is lower\n",
      "\n",
      "Wrong guess, try again!\n",
      "Hint: The number is lower\n",
      "\n",
      "Wrong guess, try again!\n",
      "Hint: The number is lower\n",
      "\n",
      "Wrong guess, try again!\n",
      "Hint: The number is lower\n",
      "\n",
      "You guessed correctly! The number is 62. Congratulations!\n"
     ]
    }
   ],
   "source": [
    "# 3.0\n",
    "# a\n",
    "\n",
    "import random\n",
    "\n",
    "random_int = random.randint(1, 100)\n",
    "\n",
    "while True:\n",
    "    guess_int = int(input(\"Guess a number between 1-100!\"))\n",
    "\n",
    "    if guess_int == random_int:\n",
    "        print(f\"You guessed correctly! The number is {random_int}. Congratulations!\")\n",
    "        break\n",
    "\n",
    "    else:\n",
    "        print(\"Wrong guess, try again!\")\n",
    "\n",
    "        if guess_int > random_int:\n",
    "            print(\"Hint: The number is lower\")\n",
    "            print(\"\")\n",
    "\n",
    "        else:\n",
    "            print(\"Hint: The number is higher\")\n",
    "            print(\"\")"
   ]
  },
  {
   "cell_type": "markdown",
   "metadata": {},
   "source": [
    "&nbsp; b) &nbsp; Make an algorithm to automatically guess the correct number. Can you optimize to get as few guesses as possible? (**)\n",
    "\n",
    "<details>\n",
    "\n",
    "<summary>Hint </summary>\n",
    "\n",
    "&nbsp; b) &nbsp; Half your testing number each time \n",
    "\n",
    "</details>"
   ]
  },
  {
   "cell_type": "code",
   "execution_count": 57,
   "metadata": {},
   "outputs": [
    {
     "name": "stdout",
     "output_type": "stream",
     "text": [
      "Testing algorithm. Number is 46\n",
      "Guess #1: 21\n",
      "Too low\n",
      "Guess #2: 61\n",
      "Too high\n",
      "Guess #3: 41\n",
      "Too low\n",
      "Guess #4: 51\n",
      "Too high\n",
      "Guess #5: 46\n",
      "Correct\n"
     ]
    }
   ],
   "source": [
    "# b\n",
    "\n",
    "random_int = random.randint(1, 100)\n",
    "print(f\"Testing algorithm. Number is {random_int}\")\n",
    "\n",
    "# Best would be to start in the middle (guessing 50) to get the least amount of guesses\n",
    "# but to make it realistic I'll randomise the first guess\n",
    "guess = random.randint(1, 100)\n",
    "\n",
    "high = 100\n",
    "low = 1\n",
    "numberof_guesses = 1\n",
    "\n",
    "while True:\n",
    "\n",
    "    print(f\"Guess #{numberof_guesses}: {guess}\")\n",
    "    numberof_guesses += 1\n",
    "\n",
    "    if guess == random_int:\n",
    "        print(\"Correct\")\n",
    "        break\n",
    "\n",
    "    elif guess > random_int:\n",
    "        print(\"Too high\")\n",
    "        high = guess - 1\n",
    "        guess = (low + high) // 2\n",
    "\n",
    "    else:\n",
    "        print(\"Too low\")\n",
    "        low = guess + 1\n",
    "        guess = (low + high) // 2\n"
   ]
  },
  {
   "cell_type": "markdown",
   "metadata": {},
   "source": [
    "--- \n",
    "## 4. Multiplication game (*)\n",
    "&nbsp; a) &nbsp; Create a multiplication game following this flow chart: \n",
    "\n",
    "<img align=\"left\" src=\"../assets/Multiplication_game.png\" width=\"300\"/>"
   ]
  },
  {
   "cell_type": "markdown",
   "metadata": {},
   "source": [
    "&nbsp; b) &nbsp; Add a menu for choosing difficulty level of the game\n",
    "\n",
    "&nbsp; c) &nbsp; Feel free to extend this program with features of your choice."
   ]
  },
  {
   "cell_type": "code",
   "execution_count": null,
   "metadata": {},
   "outputs": [
    {
     "name": "stdout",
     "output_type": "stream",
     "text": [
      "Welcome to the multiplication game!\n",
      "Choose a difficulty:\n",
      "[E]asy\n",
      "[I]ntermediate\n",
      "[H]ard\n",
      "test\n"
     ]
    },
    {
     "ename": "TypeError",
     "evalue": "str.lower() takes no arguments (1 given)",
     "output_type": "error",
     "traceback": [
      "\u001b[31m---------------------------------------------------------------------------\u001b[39m",
      "\u001b[31mTypeError\u001b[39m                                 Traceback (most recent call last)",
      "\u001b[36mCell\u001b[39m\u001b[36m \u001b[39m\u001b[32mIn[3]\u001b[39m\u001b[32m, line 29\u001b[39m\n\u001b[32m     26\u001b[39m choice = \u001b[38;5;28minput\u001b[39m().lower()\n\u001b[32m     28\u001b[39m \u001b[38;5;28;01mif\u001b[39;00m choice == \u001b[33m\"\u001b[39m\u001b[33me\u001b[39m\u001b[33m\"\u001b[39m:\n\u001b[32m---> \u001b[39m\u001b[32m29\u001b[39m     \u001b[43mEasy\u001b[49m\u001b[43m(\u001b[49m\u001b[43m)\u001b[49m\n\u001b[32m     31\u001b[39m \u001b[38;5;28;01melif\u001b[39;00m choice == \u001b[33m\"\u001b[39m\u001b[33mi\u001b[39m\u001b[33m\"\u001b[39m:\n\u001b[32m     32\u001b[39m     Intermediate()\n",
      "\u001b[36mCell\u001b[39m\u001b[36m \u001b[39m\u001b[32mIn[3]\u001b[39m\u001b[32m, line 6\u001b[39m, in \u001b[36mEasy\u001b[39m\u001b[34m()\u001b[39m\n\u001b[32m      4\u001b[39m \u001b[38;5;28;01mdef\u001b[39;00m\u001b[38;5;250m \u001b[39m\u001b[34mEasy\u001b[39m():\n\u001b[32m      5\u001b[39m     \u001b[38;5;28mprint\u001b[39m(\u001b[33m\"\u001b[39m\u001b[33mtest\u001b[39m\u001b[33m\"\u001b[39m)\n\u001b[32m----> \u001b[39m\u001b[32m6\u001b[39m     playagain = \u001b[38;5;28;43minput\u001b[39;49m\u001b[43m(\u001b[49m\u001b[43m)\u001b[49m\u001b[43m.\u001b[49m\u001b[43mlower\u001b[49m\u001b[43m(\u001b[49m\u001b[33;43m\"\u001b[39;49m\u001b[33;43mPlay again? [Y]es or [N]o\u001b[39;49m\u001b[33;43m\"\u001b[39;49m\u001b[43m)\u001b[49m\n\u001b[32m      7\u001b[39m     \u001b[38;5;28;01mif\u001b[39;00m playagain == \u001b[33m\"\u001b[39m\u001b[33my\u001b[39m\u001b[33m\"\u001b[39m:\n\u001b[32m      8\u001b[39m         \u001b[38;5;28mprint\u001b[39m(\u001b[33m\"\u001b[39m\u001b[33mReturning to menu...\u001b[39m\u001b[33m\"\u001b[39m)\n",
      "\u001b[31mTypeError\u001b[39m: str.lower() takes no arguments (1 given)"
     ]
    }
   ],
   "source": [
    "# 4.0\n",
    "# a, b, c\n",
    "\n",
    "def Easy():\n",
    "    print(\"test\")\n",
    "    playagain = input().lower(\"Play again? [Y]es or [N]o\")\n",
    "    if playagain == \"y\":\n",
    "        print(\"Returning to menu...\")\n",
    "    elif playagain == \"n\":\n",
    "        print(\"Ending game...\")\n",
    "        quit\n",
    "\n",
    "def Intermediate():\n",
    "    print(\"Test2\")\n",
    "\n",
    "def Hard():\n",
    "    print(\"Test3\")\n",
    "     \n",
    "while True:\n",
    "    print(\"Welcome to the multiplication game!\")\n",
    "    print(\"Choose a difficulty:\")\n",
    "    print(\"[E]asy\")\n",
    "    print(\"[I]ntermediate\")\n",
    "    print(\"[H]ard\")\n",
    "\n",
    "    choice = input().lower()\n",
    "\n",
    "    if choice == \"e\":\n",
    "        Easy()\n",
    "    \n",
    "    elif choice == \"i\":\n",
    "        Intermediate()\n",
    "    \n",
    "    elif choice == \"h\":\n",
    "        Hard()\n",
    "        \n",
    "    else:\n",
    "        print(\"Wrong input, try again\")\n",
    "\n"
   ]
  },
  {
   "cell_type": "markdown",
   "metadata": {},
   "source": [
    "--- \n",
    "## 5. Check convergence (**)\n",
    "Use a while statement to compute the following sums: \n",
    "\n",
    "&nbsp; a) &nbsp; $\\text{sum} = 1 + \\frac{1}{2} + \\frac{1}{4} + \\frac{1}{8} + \\dots + \\frac{1}{2^n}$\n",
    "\n",
    "&nbsp; b) &nbsp; $\\text{sum} = 1 - \\frac{1}{3} + \\frac{1}{5} - \\frac{1}{7} + \\dots + \\frac{(-1)^n}{2n+1}$\n",
    "\n",
    "Try different values on $n$ to see which value it converges to.\n",
    "\n",
    "<details>\n",
    "\n",
    "<summary>Answer </summary>\n",
    "\n",
    "&nbsp; a) &nbsp; $1 + \\frac{1}{2} + \\frac{1}{4} + \\frac{1}{8} + \\dots + \\frac{1}{2^n} \\xrightarrow[n\\rightarrow \\infty]{} 2$ \n",
    "\n",
    "&nbsp; b) &nbsp; $ 1 - \\frac{1}{3} + \\frac{1}{5} - \\frac{1}{7} + \\dots + \\frac{(-1)^n}{2n+1} \\xrightarrow[n\\rightarrow \\infty]{} \\frac{\\pi}{4}$\n",
    "\n",
    "</details>"
   ]
  },
  {
   "cell_type": "markdown",
   "metadata": {},
   "source": [
    "---\n",
    "\n",
    "pr0fez Giang\n",
    "\n",
    "[LinkedIn][linkedIn_pr0fez]\n",
    "\n",
    "[GitHub portfolio][github_portfolio]\n",
    "\n",
    "[linkedIn_pr0fez]: https://www.linkedin.com/in/pr0fezgiang/\n",
    "[github_portfolio]: https://github.com/pr0fez/Portfolio-pr0fez-Giang\n",
    "\n",
    "---"
   ]
  }
 ],
 "metadata": {
  "kernelspec": {
   "display_name": "Python 3",
   "language": "python",
   "name": "python3"
  },
  "language_info": {
   "codemirror_mode": {
    "name": "ipython",
    "version": 3
   },
   "file_extension": ".py",
   "mimetype": "text/x-python",
   "name": "python",
   "nbconvert_exporter": "python",
   "pygments_lexer": "ipython3",
   "version": "3.13.7"
  },
  "orig_nbformat": 4
 },
 "nbformat": 4,
 "nbformat_minor": 2
}

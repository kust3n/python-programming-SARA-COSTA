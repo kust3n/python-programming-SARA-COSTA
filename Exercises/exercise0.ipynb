{
 "cells": [
  {
   "cell_type": "code",
   "execution_count": 1,
   "id": "9163f36c",
   "metadata": {},
   "outputs": [
    {
     "name": "stdout",
     "output_type": "stream",
     "text": [
      "The hypothenuse is 5.0 length units\n"
     ]
    }
   ],
   "source": [
    "# 1.a\n",
    "\n",
    "import math\n",
    "\n",
    "a = 3\n",
    "b = 4\n",
    "\n",
    "hypothenuse = a**2 + b**2 \n",
    "result = math.sqrt(hypothenuse)\n",
    "\n",
    "print (f\"The hypothenuse is {result} length units\")"
   ]
  },
  {
   "cell_type": "code",
   "execution_count": 3,
   "id": "863aa899",
   "metadata": {},
   "outputs": [
    {
     "name": "stdout",
     "output_type": "stream",
     "text": [
      "The other cathetus is 4.9 length units\n"
     ]
    }
   ],
   "source": [
    "# 1.b\n",
    "\n",
    "import math\n",
    "\n",
    "a = 5.0\n",
    "c = 7.0\n",
    "cathetus = c**2 - a**2\n",
    "result = math.sqrt(cathetus)\n",
    "\n",
    "print (f\"The other cathetus is {result:.1f} length units\")"
   ]
  },
  {
   "cell_type": "code",
   "execution_count": null,
   "id": "69ea9974",
   "metadata": {},
   "outputs": [
    {
     "name": "stdout",
     "output_type": "stream",
     "text": [
      "The accuracy of the model is 82.19%\n"
     ]
    }
   ],
   "source": [
    "# 2.0\n",
    "\n",
    "total_predictions = 365\n",
    "\n",
    "correct_predictions = 300\n",
    "\n",
    "accuracy = correct_predictions / total_predictions * 100\n",
    "\n",
    "print (f\"The accuracy of the model is {accuracy:.2f}%\")"
   ]
  },
  {
   "cell_type": "code",
   "execution_count": 9,
   "id": "7e85c69b",
   "metadata": {},
   "outputs": [
    {
     "name": "stdout",
     "output_type": "stream",
     "text": [
      "The accuracy of this model is 0.987\n"
     ]
    }
   ],
   "source": [
    "# 3.0\n",
    "\n",
    "numberof_TP = 2\n",
    "\n",
    "numberof_FP = 2\n",
    "\n",
    "numberof_FN = 11\n",
    "\n",
    "numberof_TN = 985\n",
    "\n",
    "accuracy = (numberof_TP + numberof_TN) / (numberof_TP + numberof_TN + numberof_FN + numberof_FP)\n",
    "\n",
    "print (f\"The accuracy of this model is {accuracy}\")"
   ]
  },
  {
   "cell_type": "code",
   "execution_count": 13,
   "id": "9c887d26",
   "metadata": {},
   "outputs": [
    {
     "name": "stdout",
     "output_type": "stream",
     "text": [
      "The equation for the slope is y = 0.75x + 1.0\n"
     ]
    }
   ],
   "source": [
    "# 4.0\n",
    "\n",
    "a_x = 4\n",
    "a_y = 4\n",
    "\n",
    "b_x = 0\n",
    "b_y = 1\n",
    "\n",
    "k = (a_y - b_y) / (a_x - b_x)\n",
    "\n",
    "# solve y = kx + m, choosing points from A\n",
    "m = a_y - (k * a_x)\n",
    "\n",
    "print (f\"The equation for the slope is y = {k}x + {m}\")\n"
   ]
  },
  {
   "cell_type": "code",
   "execution_count": 16,
   "id": "5dbe0c4c",
   "metadata": {},
   "outputs": [
    {
     "name": "stdout",
     "output_type": "stream",
     "text": [
      "The distance is around 5.1 length units\n"
     ]
    }
   ],
   "source": [
    "# 5.0\n",
    "\n",
    "import math\n",
    "\n",
    "p1_x = 3\n",
    "p1_y = 5\n",
    "\n",
    "p2_x = -2\n",
    "p2_y = 4\n",
    "\n",
    "result = math.sqrt((p2_x - p1_x)**2 + (p2_y - p1_y)**2)\n",
    "\n",
    "print (f\"The distance is around {result:.1f} length units\")"
   ]
  },
  {
   "cell_type": "code",
   "execution_count": null,
   "id": "fb4fb79a",
   "metadata": {},
   "outputs": [
    {
     "name": "stdout",
     "output_type": "stream",
     "text": [
      "The distance is around 4.12 l.u\n"
     ]
    }
   ],
   "source": [
    "# 6.0\n",
    "# Realized at this point I don't need to make seperate variables to \n",
    "# the points x and y like I did on earlier exercises, \n",
    "# will simplify it on this one\n",
    "\n",
    "import math\n",
    "\n",
    "\n",
    "p1 = (2, 1, 4)\n",
    "\n",
    "p2 = (3, 1, 0)\n",
    "\n",
    "distance = math.sqrt((p1[0] - p2[0])**2 + (p1[1] - p2[1])**2 + (p1[2] - p2[2])**2)\n",
    "\n",
    "print (f\"The distance is around {distance:.2f} l.u\")"
   ]
  }
 ],
 "metadata": {
  "kernelspec": {
   "display_name": "Python 3",
   "language": "python",
   "name": "python3"
  },
  "language_info": {
   "codemirror_mode": {
    "name": "ipython",
    "version": 3
   },
   "file_extension": ".py",
   "mimetype": "text/x-python",
   "name": "python",
   "nbconvert_exporter": "python",
   "pygments_lexer": "ipython3",
   "version": "3.13.7"
  }
 },
 "nbformat": 4,
 "nbformat_minor": 5
}

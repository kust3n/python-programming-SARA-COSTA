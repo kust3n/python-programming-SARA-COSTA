{
 "cells": [
  {
   "cell_type": "code",
   "execution_count": null,
   "id": "9163f36c",
   "metadata": {},
   "outputs": [
    {
     "name": "stdout",
     "output_type": "stream",
     "text": [
      "5.0\n"
     ]
    }
   ],
   "source": [
    "# 1.a\n",
    "\n",
    "import math\n",
    "\n",
    "a = 3\n",
    "b = 4\n",
    "\n",
    "hypothenuse = a**2 + b**2 \n",
    "result = math.sqrt(hypothenuse)\n",
    "\n",
    "print (f(The hypothenuse is {result} length units))"
   ]
  },
  {
   "cell_type": "code",
   "execution_count": null,
   "id": "863aa899",
   "metadata": {},
   "outputs": [],
   "source": [
    "# 1.b\n",
    "\n"
   ]
  }
 ],
 "metadata": {
  "kernelspec": {
   "display_name": "Python 3",
   "language": "python",
   "name": "python3"
  },
  "language_info": {
   "codemirror_mode": {
    "name": "ipython",
    "version": 3
   },
   "file_extension": ".py",
   "mimetype": "text/x-python",
   "name": "python",
   "nbconvert_exporter": "python",
   "pygments_lexer": "ipython3",
   "version": "3.13.7"
  }
 },
 "nbformat": 4,
 "nbformat_minor": 5
}

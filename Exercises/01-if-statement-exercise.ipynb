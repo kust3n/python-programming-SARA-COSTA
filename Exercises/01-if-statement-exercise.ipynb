{
 "cells": [
  {
   "cell_type": "markdown",
   "metadata": {},
   "source": [
    "\n",
    "<a href=\"https://colab.research.google.com/github/pr0fez/AI24-Programmering/blob/master/Exercises/01-if-statement-exercise.ipynb\" target=\"_parent\"><img align=\"left\" src=\"https://colab.research.google.com/assets/colab-badge.svg\" alt=\"Open In Colab\"/></a> &nbsp; to see hints and answers."
   ]
  },
  {
   "cell_type": "markdown",
   "metadata": {},
   "source": [
    "# if statements exercises\n",
    "\n",
    "---\n",
    "These are introductory exercises in Python with focus in **if** statement.\n",
    "\n",
    "<p class = \"alert alert-info\" role=\"alert\"><b>Remember</b> to use <b>descriptive variable names</b> in order to get readable code </p>\n",
    "\n",
    "<p class = \"alert alert-info\" role=\"alert\"><b>Remember</b> to format your answers in a neat way using <b>f-strings</b>\n",
    "\n",
    "<p class = \"alert alert-info\" role=\"alert\"><b>Remember</b> to format your input questions in a pedagogical way to guide the user\n",
    "\n",
    "The number of stars (\\*), (\\*\\*), (\\*\\*\\*) denotes the difficulty level of the task\n",
    "\n",
    "---"
   ]
  },
  {
   "cell_type": "markdown",
   "metadata": {},
   "source": [
    "## 1. Check sign (*)\n",
    "\n",
    "Ask the user to input a number and check if this number is **positive**, **negative** or **zero** and print it."
   ]
  },
  {
   "cell_type": "code",
   "execution_count": null,
   "metadata": {},
   "outputs": [
    {
     "name": "stdout",
     "output_type": "stream",
     "text": [
      "Number is zero\n"
     ]
    }
   ],
   "source": [
    "# 1.0\n",
    "number = float(input(\"Enter a number\"))\n",
    "\n",
    "if number > 0:\n",
    "    print(\"Number is positive\")\n",
    "\n",
    "elif number < 0:\n",
    "    print(\"Number is negative\")\n",
    "\n",
    "else:\n",
    "    print(\"Number is zero\")\n"
   ]
  },
  {
   "cell_type": "markdown",
   "metadata": {},
   "source": [
    "---\n",
    "## 2. Smallest (*)\n",
    "Ask the user to input two numbers and check which one is the smallest and print it out.   "
   ]
  },
  {
   "cell_type": "code",
   "execution_count": null,
   "metadata": {},
   "outputs": [
    {
     "name": "stdout",
     "output_type": "stream",
     "text": [
      "The numbers are the same\n"
     ]
    }
   ],
   "source": [
    "# 2.0\n",
    "\n",
    "number_one = float(input(\"Enter your first number\"))\n",
    "\n",
    "number_two = float(input(\"Enter your second number\"))\n",
    "\n",
    "if number_one > number_two:\n",
    "    print(\"The second number is the smallest\")\n",
    "\n",
    "elif number_one < number_two:\n",
    "    print(\"The first number is the smallest\")\n",
    "\n",
    "else:\n",
    "    print(\"The numbers are the same\")"
   ]
  },
  {
   "cell_type": "markdown",
   "metadata": {},
   "source": [
    "---\n",
    "## 3. Right angle (*)\n",
    "\n",
    "Ask the user to input three angles and check if the triangle has a right angle. Your code should make sure that all three angles are valid and make up a triangle.\n",
    "\n",
    "<img align=\"left\" src=\"../assets/triangle_angles.png\" width=\"200\"/>"
   ]
  },
  {
   "cell_type": "code",
   "execution_count": null,
   "metadata": {},
   "outputs": [
    {
     "name": "stdout",
     "output_type": "stream",
     "text": [
      "The shape is a valid triangle\n",
      "The triangle also has a right angle\n"
     ]
    }
   ],
   "source": [
    "# 3.0\n",
    "\n",
    "angle_one = int(input(\"Enter the first angle of the triangle\"))\n",
    "\n",
    "angle_two = int(input(\"Enter the second angle of the triangle\"))\n",
    "\n",
    "angle_three = int(input(\"Enter the third angle of the triangle\"))\n",
    "\n",
    "angles_sum = angle_one + angle_two + angle_three\n",
    "\n",
    "if angles_sum == 180:\n",
    "    print(\"The shape is a valid triangle\")\n",
    "    if angle_one == 90 or angle_two == 90 or angle_three == 90:\n",
    "        print(\"The triangle also has a right angle\")\n",
    "\n",
    "    else:\n",
    "        print(\"The triangle does not have a right angle though\")\n",
    "\n",
    "else:\n",
    "    print(\"The shape is not a triangle\")"
   ]
  },
  {
   "cell_type": "markdown",
   "metadata": {},
   "source": [
    "----\n",
    "## 4. Medicine (*)\n",
    "\n",
    "The information in the following table is stated in a medicine package. Also it is stated that for children weight is more important than age.\n",
    "\n",
    "<table align=\"left\">\n",
    "<thead>\n",
    "    <tr>\n",
    "        <th></th>\n",
    "        <th>Age</th>\n",
    "        <th>Number of pills</th>\n",
    "    </tr>\n",
    "</thead>\n",
    "\n",
    "<tbody>\n",
    "  <tr>\n",
    "    <td>Adults & adolescent <br>over 40 kg</td>\n",
    "    <td>over 12 years</td>\n",
    "    <td>1-2</td>\n",
    "  </tr>\n",
    "\n",
    "  <tr>\n",
    "    <td>Children 26-40 kg</td>\n",
    "    <td>7-12 years</td>\n",
    "    <td>1/2-1</td>\n",
    "  </tr>\n",
    "\n",
    "  <tr>\n",
    "    <td>Children 15-25 kg</td>\n",
    "    <td>3-7 years</td>\n",
    "    <td>1/2</td>\n",
    "  </tr>\n",
    "</tbody>\n",
    "</table>"
   ]
  },
  {
   "cell_type": "markdown",
   "metadata": {},
   "source": [
    "Let the user input an **age** and a **weight**, the program should recommend the number of pills for the user."
   ]
  },
  {
   "cell_type": "code",
   "execution_count": null,
   "metadata": {},
   "outputs": [
    {
     "name": "stdout",
     "output_type": "stream",
     "text": [
      "You should take 1-2 pills\n"
     ]
    }
   ],
   "source": [
    "# 4.0\n",
    "\n",
    "age = int(input(\"Enter age\"))\n",
    "weight = int(input(\"Enter weight in kg\"))\n",
    "\n",
    "if age < 12 and weight <= 40:\n",
    "    if weight <= 25:\n",
    "        print(\"You should take 1/2 pill\")\n",
    "    elif weight <= 40 and weight > 25:\n",
    "        print(\"You should take 1/2 - 1 pill\")\n",
    "\n",
    "else:\n",
    "    print(\"You should take 1-2 pills\")"
   ]
  },
  {
   "cell_type": "markdown",
   "metadata": {},
   "source": [
    "---\n",
    "## 5. Divisible (*)\n",
    "Let the user input a number. Check if the number is\n",
    "<ol type=\"a\">\n",
    "  <li>even or odd</li>\n",
    "  <li>is divisible by 5</li>\n",
    "  <li>is divisble by 5 and odd</li>\n",
    "</ol> "
   ]
  },
  {
   "cell_type": "code",
   "execution_count": null,
   "metadata": {},
   "outputs": [
    {
     "name": "stdout",
     "output_type": "stream",
     "text": [
      "25 is an odd number\n",
      "25 is divisible by 5\n"
     ]
    }
   ],
   "source": [
    "# 5.0\n",
    "# a\n",
    "\n",
    "number = int(input(\"Enter a number\"))\n",
    "\n",
    "if number % 2 == 0:\n",
    "    print(f\"{number} is an even number\")\n",
    "\n",
    "else:\n",
    "    print(f\"{number} is an odd number\")"
   ]
  },
  {
   "cell_type": "code",
   "execution_count": null,
   "metadata": {},
   "outputs": [],
   "source": [
    "# b\n",
    "\n",
    "if number % 5 == 0:\n",
    "    print(f\"{number} is divisible by 5\")\n",
    "\n",
    "else:\n",
    "    print(f\"{number} is not divisable by 5\")"
   ]
  },
  {
   "cell_type": "code",
   "execution_count": null,
   "metadata": {},
   "outputs": [],
   "source": [
    "# c\n",
    "\n",
    "if number % 2 == 1 and number % 5 == 0:\n",
    "    print(f\"{number} is both an odd number and divisable by 5\")"
   ]
  },
  {
   "cell_type": "markdown",
   "metadata": {},
   "source": [
    "---\n",
    "## 6. Luggage size (*)\n",
    "\n",
    "The maximum allowed luggage size for boarding an airplane is: \n",
    "- weight: 8kg\n",
    "- dimensions: 55x40x23cm (length x width x height) \n",
    "\n",
    "Let the user input weight, length, width and height of the luggage. The program should check if the luggage is allowed or not."
   ]
  },
  {
   "cell_type": "code",
   "execution_count": 24,
   "metadata": {},
   "outputs": [
    {
     "name": "stdout",
     "output_type": "stream",
     "text": [
      "The luggage is not allowed for boarding\n"
     ]
    }
   ],
   "source": [
    "weight = int(input(\"Enter the weight of your luggage (in kg)\"))\n",
    "\n",
    "length = int(input(\"Enter the dimensions of the luggage (in cm), start with length\"))\n",
    "width = int(input(\"Enter the width\"))\n",
    "height = int(input(\"Enter the height\"))\n",
    "\n",
    "if weight <= 8:\n",
    "    if length <= 55 and width <= 40 and height <= 23:\n",
    "        print(\"Your luggage is allowed for boarding\")\n",
    "    else:\n",
    "        print(\"The luggage is not allowed for boarding\")\n",
    "else:\n",
    "    print(\"The luggage is not allowed for boarding\")"
   ]
  },
  {
   "cell_type": "markdown",
   "metadata": {},
   "source": [
    "---\n",
    "\n",
    "pr0fez Giang\n",
    "\n",
    "[LinkedIn][linkedIn_pr0fez]\n",
    "\n",
    "[GitHub portfolio][github_portfolio]\n",
    "\n",
    "[linkedIn_pr0fez]: https://www.linkedin.com/in/pr0fezgiang/\n",
    "[github_portfolio]: https://github.com/pr0fez/Portfolio-pr0fez-Giang\n",
    "\n",
    "---"
   ]
  }
 ],
 "metadata": {
  "kernelspec": {
   "display_name": "Python 3",
   "language": "python",
   "name": "python3"
  },
  "language_info": {
   "codemirror_mode": {
    "name": "ipython",
    "version": 3
   },
   "file_extension": ".py",
   "mimetype": "text/x-python",
   "name": "python",
   "nbconvert_exporter": "python",
   "pygments_lexer": "ipython3",
   "version": "3.13.7"
  },
  "orig_nbformat": 4
 },
 "nbformat": 4,
 "nbformat_minor": 2
}
